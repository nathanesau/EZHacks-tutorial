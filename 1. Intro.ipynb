{
 "cells": [
  {
   "cell_type": "markdown",
   "metadata": {},
   "source": [
    "Greetings! This notebook is an intro to `dataprep.connector` for EZHacks.\n",
    "\n",
    "At the beginning is our video at PyData introducing `dataprep.connector`. \n",
    "The DBLP example in the video is also attached in this notebook after the video. \n",
    "\n",
    "You are welcome to play with it to get familiar with the connector.\n",
    "\n",
    "You can run the next cell to load the video.\n",
    "\n",
    "In case jupyter notebook is totally new to you, here's how to run a jupyter notebook cell:\n",
    "\n",
    "![Imgur](https://i.imgur.com/YEu8fW2.gif)"
   ]
  },
  {
   "cell_type": "code",
   "execution_count": null,
   "metadata": {},
   "outputs": [],
   "source": [
    "from IPython.display import YouTubeVideo\n",
    "\n",
    "YouTubeVideo(\"56qu-0Ka-dA\")"
   ]
  },
  {
   "cell_type": "code",
   "execution_count": null,
   "metadata": {},
   "outputs": [],
   "source": []
  },
  {
   "cell_type": "code",
   "execution_count": null,
   "metadata": {},
   "outputs": [],
   "source": []
  },
  {
   "cell_type": "markdown",
   "metadata": {},
   "source": [
    "Below is the DBLP example in the video"
   ]
  },
  {
   "cell_type": "markdown",
   "metadata": {},
   "source": [
    "If you haven't install `dataprep` yet, you can run the following cell to install it."
   ]
  },
  {
   "cell_type": "code",
   "execution_count": null,
   "metadata": {
    "scrolled": true
   },
   "outputs": [],
   "source": [
    "!pip install dataprep"
   ]
  },
  {
   "cell_type": "markdown",
   "metadata": {},
   "source": [
    "# DataPrep.Connector Demo\n",
    "\n",
    "1. **Easy** - Collect data from a website in three lines of code\n",
    "2. **Fast** - Collect data from a website in parallel"
   ]
  },
  {
   "cell_type": "markdown",
   "metadata": {},
   "source": [
    "# DBLP Website\n",
    "\n",
    "DBLP is a computer science bibliography website. \n",
    "\n",
    "Search: https://dblp.org/\n",
    "\n",
    "API: https://dblp.org/faq/13501473.html\n"
   ]
  },
  {
   "cell_type": "markdown",
   "metadata": {},
   "source": [
    "# 1. Easy - Collect publication data in three lines of code"
   ]
  },
  {
   "cell_type": "code",
   "execution_count": null,
   "metadata": {},
   "outputs": [],
   "source": [
    "from dataprep.connector import connect\n",
    "conn = connect(\"dblp\")\n",
    "df = await conn.query(\"publication\", q=\"CVPR 2020\", _count=2000)"
   ]
  },
  {
   "cell_type": "code",
   "execution_count": null,
   "metadata": {},
   "outputs": [],
   "source": [
    "df.head()"
   ]
  },
  {
   "cell_type": "code",
   "execution_count": null,
   "metadata": {},
   "outputs": [],
   "source": [
    "len(df)"
   ]
  },
  {
   "cell_type": "markdown",
   "metadata": {},
   "source": [
    "# 2. Fast - Collect data in parallel"
   ]
  },
  {
   "cell_type": "code",
   "execution_count": null,
   "metadata": {},
   "outputs": [],
   "source": [
    "from dataprep.connector import connect\n",
    "conn = connect(\"dblp\", _concurrency=10)\n",
    "df = await conn.query(\"publication\", q=\"CVPR\", _count=10000)"
   ]
  },
  {
   "cell_type": "markdown",
   "metadata": {
    "execution": {
     "iopub.execute_input": "2020-10-17T05:53:43.138684Z",
     "iopub.status.busy": "2020-10-17T05:53:43.138136Z",
     "iopub.status.idle": "2020-10-17T05:53:43.142449Z",
     "shell.execute_reply": "2020-10-17T05:53:43.141541Z",
     "shell.execute_reply.started": "2020-10-17T05:53:43.138647Z"
    }
   },
   "source": [
    "# 3. How to contribute\n",
    "\n",
    "https://github.com/sfu-db/DataConnectorConfigs"
   ]
  },
  {
   "cell_type": "code",
   "execution_count": null,
   "metadata": {},
   "outputs": [],
   "source": [
    "from dataprep.connector import config_generator_ui\n",
    "config_generator_ui()"
   ]
  },
  {
   "cell_type": "code",
   "execution_count": null,
   "metadata": {},
   "outputs": [],
   "source": []
  },
  {
   "cell_type": "markdown",
   "metadata": {},
   "source": [
    "Next, in `Tutorial.ipynb`, we will first explain the detail of the config file, and then do a step-by-step guide on building a new config file, getting data with the new config file and visualize the data."
   ]
  },
  {
   "cell_type": "markdown",
   "metadata": {
    "execution": {
     "iopub.execute_input": "2021-03-05T20:22:19.205472Z",
     "iopub.status.busy": "2021-03-05T20:22:19.204755Z",
     "iopub.status.idle": "2021-03-05T20:22:19.216562Z",
     "shell.execute_reply": "2021-03-05T20:22:19.214122Z",
     "shell.execute_reply.started": "2021-03-05T20:22:19.205395Z"
    }
   },
   "source": [
    "See you there."
   ]
  }
 ],
 "metadata": {
  "kernelspec": {
   "display_name": "dataprep",
   "language": "python",
   "name": "dataprep"
  },
  "language_info": {
   "codemirror_mode": {
    "name": "ipython",
    "version": 3
   },
   "file_extension": ".py",
   "mimetype": "text/x-python",
   "name": "python",
   "nbconvert_exporter": "python",
   "pygments_lexer": "ipython3",
   "version": "3.8.6"
  }
 },
 "nbformat": 4,
 "nbformat_minor": 4
}
